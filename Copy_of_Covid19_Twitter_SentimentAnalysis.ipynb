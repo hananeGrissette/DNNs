{
  "nbformat": 4,
  "nbformat_minor": 0,
  "metadata": {
    "colab": {
      "name": "Copy of Covid19_Twitter_SentimentAnalysis.ipynb",
      "provenance": [],
      "include_colab_link": true
    },
    "kernelspec": {
      "name": "python3",
      "display_name": "Python 3"
    },
    "accelerator": "GPU"
  },
  "cells": [
    {
      "cell_type": "markdown",
      "metadata": {
        "id": "view-in-github",
        "colab_type": "text"
      },
      "source": [
        "<a href=\"https://colab.research.google.com/github/hananeGrissette/DNNs/blob/main/Copy_of_Covid19_Twitter_SentimentAnalysis.ipynb\" target=\"_parent\"><img src=\"https://colab.research.google.com/assets/colab-badge.svg\" alt=\"Open In Colab\"/></a>"
      ]
    },
    {
      "cell_type": "code",
      "metadata": {
        "id": "sF2mRiOZa1Ms",
        "colab": {
          "base_uri": "https://localhost:8080/",
          "height": 187
        },
        "outputId": "c3dc1bf6-c7ec-4a77-c90d-6929d63e6f9f"
      },
      "source": [
        "# Install Tweepy\n",
        "!pip install tweepy"
      ],
      "execution_count": null,
      "outputs": [
        {
          "output_type": "stream",
          "text": [
            "Requirement already satisfied: tweepy in /usr/local/lib/python3.6/dist-packages (3.6.0)\n",
            "Requirement already satisfied: six>=1.10.0 in /usr/local/lib/python3.6/dist-packages (from tweepy) (1.15.0)\n",
            "Requirement already satisfied: requests-oauthlib>=0.7.0 in /usr/local/lib/python3.6/dist-packages (from tweepy) (1.3.0)\n",
            "Requirement already satisfied: requests>=2.11.1 in /usr/local/lib/python3.6/dist-packages (from tweepy) (2.23.0)\n",
            "Requirement already satisfied: PySocks>=1.5.7 in /usr/local/lib/python3.6/dist-packages (from tweepy) (1.7.1)\n",
            "Requirement already satisfied: oauthlib>=3.0.0 in /usr/local/lib/python3.6/dist-packages (from requests-oauthlib>=0.7.0->tweepy) (3.1.0)\n",
            "Requirement already satisfied: urllib3!=1.25.0,!=1.25.1,<1.26,>=1.21.1 in /usr/local/lib/python3.6/dist-packages (from requests>=2.11.1->tweepy) (1.24.3)\n",
            "Requirement already satisfied: chardet<4,>=3.0.2 in /usr/local/lib/python3.6/dist-packages (from requests>=2.11.1->tweepy) (3.0.4)\n",
            "Requirement already satisfied: certifi>=2017.4.17 in /usr/local/lib/python3.6/dist-packages (from requests>=2.11.1->tweepy) (2020.6.20)\n",
            "Requirement already satisfied: idna<3,>=2.5 in /usr/local/lib/python3.6/dist-packages (from requests>=2.11.1->tweepy) (2.10)\n"
          ],
          "name": "stdout"
        }
      ]
    },
    {
      "cell_type": "code",
      "metadata": {
        "id": "MBSMP6OHbDo9"
      },
      "source": [
        "import re\n",
        "import tweepy\n",
        "from tweepy import OAuthHandler\n",
        "consumer_api_key = 'X'\n",
        "consumer_api_secret = 'X' \n",
        "access_token = 'x'\n",
        "access_token_secret ='x'"
      ],
      "execution_count": null,
      "outputs": []
    },
    {
      "cell_type": "code",
      "metadata": {
        "id": "3DXzCMJPbUSe"
      },
      "source": [
        "authorizer = OAuthHandler(consumer_api_key, consumer_api_secret)\n",
        "authorizer.set_access_token(access_token, access_token_secret)"
      ],
      "execution_count": null,
      "outputs": []
    },
    {
      "cell_type": "code",
      "metadata": {
        "id": "PCvHKeQsbfvp"
      },
      "source": [
        "api = tweepy.API(authorizer ,timeout=15)\n",
        "all_tweets = []\n",
        "search_query = 'IPL2020'\n",
        "\n",
        "for tweet_object in tweepy.Cursor(api.search,q=search_query+\" -filter:retweets\",lang='en',result_type='recent').items(200):\n",
        "    all_tweets.append(tweet_object.text)"
      ],
      "execution_count": null,
      "outputs": []
    },
    {
      "cell_type": "code",
      "metadata": {
        "id": "ovmgZsegcr4Z",
        "colab": {
          "base_uri": "https://localhost:8080/",
          "height": 54
        },
        "outputId": "69939da9-f7d0-4ec5-f926-6583c4981441"
      },
      "source": [
        "print(all_tweets)"
      ],
      "execution_count": null,
      "outputs": [
        {
          "output_type": "stream",
          "text": [
            "['Nattu boy 😍❤️🔥 finally ha getting recognized 😍 #Srh #IPL2020 https://t.co/6oP5sfLuek', \"It's just the Beginning of RISING and Spreading the Wings👐 🦅\\n#SRHvsDC #SRH #IPL2020 #Hyderabad #OrangeArmy… https://t.co/eWe6F7jEH2\", 'Right team combination &amp; superb captaincy @davidwarner31 #KaneWilliamson was absolutely brilliant with the bat. And… https://t.co/wGkXSixS9b', 'Sunrisers Hyderabad is a T20 team whose identity really revolves around its bowling arsenal. Fabulous varieties, an… https://t.co/xcDPUqWPeA', 'Jonny Jonny? More drama!\\n\\n@jbairstow21 &amp; #SRH crash Delhi’s party 😎\\n\\n#Dream11IPL #CricketYourWay #IPL2020 #DCvSRH https://t.co/gdqA2uyQUx', '\"We don\\'t really know what happened with the scans over in the UAE. Cricket Australia haven\\'t been able to get thei… https://t.co/jiB39vzbgp', \"#DelhiCapitals need an experienced campaigner to guide the youngsters and also finish the job of they can't someone… https://t.co/RAHFSSiEyk\", '@pragyanojha @SunRisers @davidwarner31 @jbairstow21 For a 20 over game, I think the batting &amp; bowling line up looks… https://t.co/O8MSU58QMJ', \"It's high time that @DelhiCapitals get in @ajinkyarahane88 as a opener replacing #Gabbar \\nHe can rotate strike if h… https://t.co/GeRlOnKpvt\", '...consistent performances by @SunRisers with out any noise. Felt @bhogleharsha wanted to say something more about… https://t.co/oQ9p4BqjBM', '#KeepRising #IPL2020 we all win together or lose together, if we are together #RiseLikeTheSun #askheyley', '#JusticeForManishaValmik\\n@actorvijay @actorajithkumar #Valimai #master no means no #IPL2020 #CSK #CSKvsMI #Rajinikanth  #KamalHaasan', '#IPL2020 Todays match  #DCvSRH brilliant bowling by @rashidkhan_19 and got man of the match for 4-0-14-3.\\nAnother f… https://t.co/x6TOGMIsZw', \"Reviewing SRH's first win of the season and previewing KKR's third game of the tournament against the double Rs… https://t.co/LLCmPtm0Pm\", 'Important 4 ur cardinal players 2 strike\\n🏏#RashidKhan\\n 🏏 #BhuvneshwarKumar \\n🏏#DavidWarner n #JonnyBairstow struck,… https://t.co/FkChZomkag', 'Natarajan was picked up by the #SRH because of his ability to dart in Yorkers. How well did he bowl these! #DCvSRH #SRHvsDC #IPL2020', 'Check out my Gig on Fiverr: be your social media marketing manager and content creator https://t.co/YBjUaguXzp… https://t.co/p5LjttUDCm', '#IPL2020 #DCvSRH #SRHvsDC @IPL Report: @rashidkhan_19, @jbairstow21 Shine as @SunRisers Beat @DelhiCapitals to Regi… https://t.co/yAy9pqDM0r', '#IPL2020 #DCvSRH #SRHvsDC @IPL Report: @rashidkhan_19, @jbairstow21 Shine as @SunRisers Beat @DelhiCapitals to Regi… https://t.co/3VECXjAsQq', 'As per the trend tomorrow KKR is going to win to make every team to lose 1 match atleast #RRvsKKR #IPL2020 #IPL #IPLPredictions', '•Abdul Samad and Natarjan are serious Talent great pick of #SRH\\n\\n•Rashid Khan and Williamson are Champ .\\n#DCvSRH #SRHvsDC #IPL2020', 'Sunrisers Hyderabad are off the mark. This was a much needed win them. @rashidkhan_19 is extremely talented. He doe… https://t.co/QZSLh0CHPS', '3️⃣/1️⃣4️⃣ - #rashidkhan\\n registered his best bowling figures\\n in IPL 🔥\\n\\nA complete team effort from SRH to grab th… https://t.co/ucms36JWA2', 'Rashid Khan today won his eighth MOTM award in just 49 IPL appearances.\\n\\nAmong those named MOTM more than twice, on… https://t.co/3DbH9lbz3e', 'The story line of this #IPL2020 till now is simple...\\nTewatia n Natarajan\\nEverything else is noise around...', 'I really don’t know why people try to troll @cricketaakash on Twitter.  One who keeps thorough knowledge about Indi… https://t.co/eQ3kDt3Z2J', '#IPL2020\\n#SRHvsDC\\nIPL 2020: Sunrisers Hyderabad beat Delhi Capitals by 15 runs to register first win of the season.… https://t.co/Xc8GBm8Yzv', '@rajasthanroyals @JofraArcher needs to make the batsmen dance to his pace. Why bowl slowers &amp; cutters when he can a… https://t.co/t9zMxZYPB6', 'The man who deserves the awards is @rashidkhan_19 The young blood, the telanted one in the world..\\n#IPL2020 https://t.co/G70Pd0JBPR', '@bhogleharsha sir.. It’s not Kane Anna, it’s Kane Mama......\\n@SunRisers #kanemama #IPL2020 #SunRisers… https://t.co/xnSQninMHS', \"Hello,, I'm mahadi_wp a professional web developer and designer worked in the IT industry for many years.\\n And I wi… https://t.co/6OjS6K2mP1\", 'Happy birthday @haanjichandan Plz follow me #MIvsKKR #IPL2020 #tkss #Bollywood #fyp #bollywooddance #comedy #joke… https://t.co/AButyeH52s', '@_cricketsparsh @cricketaakash No doubt!! \\nShrewd buys last IPL auction should ensure play off birth minimum. #IPL2020', 'Actress Kiran Rathod🔥Hot Viral Video | Superstar\\n\\nlink : https://t.co/PN91I1PZ5Y\\n\\n#DirenDamat #ElcinSanguyaSorum… https://t.co/pqnYtRO6rE', 'WHAT A BOWLER ! Match winner The Spin Wizard has done the trick once again broke the batting line up of… https://t.co/GAnkB1yFHz', 'Unpopular opinion: Rashid Khan Chucks! #IPL2020  @rashidkhan_19  #SRHvsDC', \"Hello,, I'm mahadi_wp a professional web developer and designer worked in the IT industry for many years.\\n And I wi… https://t.co/jGuja2e6mL\", 'Hey! are you looking this service? I am professional Graphic designer, and I will Design for you creative and moder… https://t.co/Rqwu19iXAS', 'Hey! are you looking this service?\\nDo you want to create your own photo into like  this???Smiling face with heart-s… https://t.co/vf78bjArrM', '@benjonescricket Oh that ad.\\nEngineering graduates who slog their backsides off for 4 years to land a developer job… https://t.co/jKKsRKpTO8', \"Hello,, I'm mahadi_wp a professional web developer and designer worked in the IT industry for many years.\\n And I wi… https://t.co/TtZ8PgFlNA\", 'Hey! are you looking this service? I am professional Graphic designer, and I will Design for you creative business… https://t.co/8G9bnsWcuu', '@man4_cricket Just try shut those are passing wrong comments with bat.I am really desperate to watch your Imactful… https://t.co/czvS9BbGZu', '\"We don\\'t really know what happened with the scans over in the UAE. Cricket Australia haven\\'t been able to get thei… https://t.co/OCSj8kM6HI', 'Hey! are you looking this service? I am professional Graphic designer, and I will Design for you creative and moder… https://t.co/uTmh5qIncT', '#IPL2020\\nPeople of India waiting for DC game to criticize #rishabhpant baccheko jeene do yr drop kardo team se khus… https://t.co/xsYk8rTVXh', 'https://t.co/dVW4M2XDnp\\n- New video! ✨\\n\\n#batballwithmg #IPL2020 #cricket #india #UAE #SRH #DC #DelhiCapitals… https://t.co/RB1HZEDKwH', \"Delhi Capitals captain Shreyas Iyer fined INR 12 lakh for slow over-rate. \\n\\nFirst offence by DC under IPL's code of… https://t.co/BQKy3ADlI0\", 'Rashid Khan today won his eighth MOTM award in just 49 IPL appearances.\\n\\nAmong those named MOTM more than twice, on… https://t.co/tEayP8pY6t', '@Natarajan_91 #TN is proud of you bro😎\\n#IPL2020 https://t.co/qqchMXuUrC', 'I know that we ve played only 3 games but still dont remember us at the bottom of the table ever before! Is this a… https://t.co/0EUojTBAGy', 'Hey! are you looking this service?\\nDo you want to create your own photo into like  this???Smiling face with heart-s… https://t.co/VAeett9AGn', 'CEP vs SOP: Match 2, National T20 Cup 2020: Fantasy Cricket Tips\\n#Cricket #IPL2020 #IPL2020Updates #IPLSchedule… https://t.co/nIqKa3fJ8v', \"Classy!\\nWhat A Classic Batting #kaneWilliamson At It's Best\\nIt's A Slow Wicket But \\nRashid Karamati Khan… https://t.co/529INcMKOH\", '@PoppingCreaseSA Huge thank you for your updates again..I missed it through work unfortunately but once more you ke… https://t.co/wgnC2H7U2s', 'Sunrisers Hyderabad is a T20 team whose identity really revolves around its bowling arsenal. Fabulous varieties, an… https://t.co/zsLliPWWLc', \"#IPL | #IPL2020 | #DCvSRH\\n\\nRashid Khan's triple strike made all the difference for #SRH as his team registered its… https://t.co/dPf3tOr4rw\", 'Sunrisers Hyderabad are off the mark. This was a much needed win them. @rashidkhan_19 is extremely talented. He doe… https://t.co/2T68SurdA8', \"Points table now all in balance. Just want CSK &amp; MI to lose next 5 games on trot &amp; it'll look even more balanced\\n#IPL2020\", '#DelhiCapitals attacked 64% of deliveries from Abhishek Sharma - the only bowler they attacked less often was Rashi… https://t.co/CxD4weHOF7', 'IPL 2020: An emotional Rashid Khan dedicates his MoM award to his mother &amp; father after SRH’s first win… https://t.co/JzWaqnJV1p', 'C) 2009, 2012\\n\\n#ContestAlert #IPLWithNews18 #IPL2020 @CNNnews18 @cricketnext @news18dotcom\\n\\nJoin\\n@RubyAga9339… https://t.co/UGR8UoWM9Z', '•Abdul Samad and Natarjan are serious Talent great pick of SRH\\n\\n•Rashid Khan and Williamson are Champ .\\n#DCvSRH #SRHvsDC #IPL2020', \"Esko try kro sab #IPL2020\\n#Dream11IPL #ipl #MumbaiIndians\\n#RCB *Watch Now App*\\n\\n_India's Best Live Mobile TV App._… https://t.co/VDtpZ16SLO\", 'One week you’ll have Bairstow and Warner at loggerheads going at each other, sledging, the lot. The next they will… https://t.co/BjZJ1XQGrp', 'This hurts more then breakup😭\\n#IPL2020 #CSK https://t.co/1rZq868813', 'Right team combination &amp; superb captaincy @davidwarner31 #KaneWilliamson was absolutely brilliant with the bat. And… https://t.co/5RvdsffNCv', 'C) 2009, 2012\\n\\n#ContestAlert #IPLWithNews18 #IPL2020 @CNNnews18 @cricketnext\\nJoin\\n@KulAnik8\\n@Sandeep13_… https://t.co/pyXMDSBssE', '@rajasthanroyals You have fans....??😳😳😳 #IPL2020 #Yellove #MI #PlayBold #KKR #KXIP #DelhiCapitals #SRH', '@SheenlacPaints 🔥🔥🔥🔥🔥\\nDelhi capitals\\n\\n👉followed Sheenlac Paints at Facebook\\n\\n🙏 wish to win 🙏\\n\\n#ShinewithSheenlac… https://t.co/vrzpluIoC6', \"Ready to win big? Join our confirmed mega contest with winnings worth ₹10 lakhs for today's #Rajasthan vs #Kolkata… https://t.co/fHA1jxeeX9\", '#IPL #IPL2020 #Dream11IPL #Prediction\\n\\nRRvKKR \\n\\nKKR would win by ease\\n #KKR #RR\\n#KKRvsRR \\n\\nTrying to predict whenev… https://t.co/saB3MOXgQ4', '“In all three matches, we have given the opposition chances, if we are ruthless we will finish them off. If we tidy… https://t.co/JgOR3zS1tm', \"It's time to declare Williamson captain of SRH . The departments in which he is better than Warner - captaincy expe… https://t.co/I67O1dFMHx\", 'Natrajan, those yorkers! Thats the bowler India needed #IPL2020 #SRHvsDC', '#IPL2020 \\nCSK at the bottom in points table. https://t.co/JTLFhPUpWc', '❤️SRH Won the Match❤️\\n\\nMatch - 11\\n\\nSRH Vs DC\\n\\nFollow Join Like\\n@Vizhuppuraminfo\\n.\\n#vizhuppuram #vizhuppuram_info… https://t.co/ivmLgYofVs', 'How accurate was Natarajan with yorkers #DCvSRH #IPL2020', 'Bottom is the new top, and it is temporary, We will bounce back, top of the table is where we belongs to… https://t.co/MYbrlbVz62', 'Man of the Match award goes to Rashid Khan.\\nHe took 3 important wickets of Delhi.(Shreyash Iyer, Dhawan &amp; Pant)… https://t.co/Wy76THUGum', '@IPL top 4 - 🏆\\nbottom 4 - 🏆🏆🏆🏆🏆🏆🏆🏆🏆🏆\\nyear 2020 indeed\\n\\n#IPL2020 #Dream11IPL #IPL', 'Rashid Khan Dedicates his Man of the Match title to his Late Parents | SRH vs DC | IPL Match 11… https://t.co/cHTlLOfJtQ', '#Natarajan long way to go Brother 👍\\n#OrangeArmy #DCvSRH #IPL2020 #KeepRising #Dream11IPL https://t.co/rcpmK8uD5w', 'One who never tries, never fails.\\n@imVkohli tries again and again and fails.\\nWhich is absolutely normal.\\nIf you thi… https://t.co/rjTlmFMXyd', 'Once again irresponsible and immature batting from Pant. \\n\\nHe is not a matching winning player.  #DCvSRH #IPL2020 #Dream11IPL', 'Top stuff by Natarajan today. 🙌 #IPL2020 #IPL #SRHvsDC https://t.co/6ww8igV6Ib', 'Points table should be upside-down 😬\\U0001f9d0\\U0001f9d0\\n#IPL2020 https://t.co/RyfLrpvtO5', 'Kane Williamson bought much needed luck and stability to the @SunRisers team. leg spinner join the party.… https://t.co/NHpz63MbkL', 'Even if #Williamson is hurt he should be in the team , his charisma is enough to make the team look n perform stron… https://t.co/5yAU0tkKrh', \"On this day, in 2016\\n\\nWe went to theatre as Dhoni Fan, \\n\\nAnd Came Back as Sushant's Fan. \\n\\nThanks for everything; W… https://t.co/pQ5qbE2Jod\", '@RoflGandhi_ Axar Patel is only cricketer who has given a money to team owner for being part of team squad !😂 #SRHvDC #IPL2020', 'SRH is now my favourite IPL team.\\n#IPL2020\\n#AbdulSamad keep going brovi😘', 'Who should keep in T20s for India at the T20WC #IPL2020 #DCvSRH', 'Well now with each team atleast one win and 2 points on the point table the upcoming matches are really going to be… https://t.co/WVjFUGwK3t', 'Rashid Khan was the standout bowler for Sunrisers Hyderabad as they claimed their first win of the season #IPL2020… https://t.co/TgVNWSlwco', 'Good analysis. Such small observations will be crucial since the game is all about small margins \\n\\n#IPL2020 https://t.co/TMJVdaT5l2', 'CSK nalayako upar aao table main. Beizzati ho rahi hai two times back to back champions. 😿 #IPL2020', 'While we all are busy on #IPL2020 \\nI found a new crush @amyjones313 in English Side', '@StarSportsTamil \\nReally Happy to see Namma Pasanga (@Sundarwashi5, #MuruganAshwin, #VarunChakravarthy… https://t.co/uLrDwdPqvQ', \"Today #SRHvsDC #IPL2020 #OrangeShirtDay \\nAaawwwweeeesssooommmeee 🤗🤗😀😀\\n\\n#BiggBossTelugu4 👎👎 dabba episode , didn't e… https://t.co/0Xz2YL9sti\", 'Purani wali SRH team wapas aa gayi hai💯\\nA team with unity..💪\\nAll the players contributed in the win and not depende… https://t.co/pRHNbtls1E', \"Captain David Warner happy with Sunrisers Hyderabad's death bowling against Delhi Capitals #IPL2020 #SRHvDC… https://t.co/IchnIwqIHt\", \"Captain David Warner happy with Sunrisers Hyderabad's death bowling against Delhi Capitals #IPL2020 #SRHvDC… https://t.co/6fa9MjCGme\", 'So good to see Indian youngsters outperform international stars at @IPL ! Kudos #natarajan and @IamAbhiSharma4.… https://t.co/OFu5KNFWOc', '@SunRisers #OrangeArmy #Dream11IPL #IPL2020 \\n\\n Today is a Great battle..Bairstow, David Warner, Khalil Ahmed,*Rashi… https://t.co/6lZtjBG1YG', 'Tadoba Tiger King Resort🐾\\n- Taking care of all the covid-19\\nPrecautions. \\n\\nBest Rate Guaranteed! \\n- BOOK NOW\\n\\n#tta… https://t.co/4IGCr3A30n', 'Any news on #Stokes ? @rajasthanroyals\\n@benstokes38 \\n#IPL2020', '@cricketnext @CNNnews18 Ans) C. 2009, 2012\\n\\n#IPLwithNews18 @cricketnext @CNNnews18\\n#IPL2020\\xa0 @news18dotcom… https://t.co/6N26OuLkcr', 'Awesome! Thanks @SunRisers for opening the account this #IPL2020 ! #birthdayGift https://t.co/nmn2DQnlJu https://t.co/lBGnUakVGd', 'T Natarjan was fantastic as he was consistently hitting the yorkers &amp; made run scoring difficult for batsman . \\n\\nWe… https://t.co/1jpJyldLdx', \"Warner bairstow Important Partnership\\nWilliamson's Class \\nSamad hitting in last overs \\nNatrajans firing Yorker ball… https://t.co/tq620wKM11\", 'Not boys, but @rashidkhan_19 played well 💯💯\\n\\n@ved075 @joshiprasads\\n@ChiragD20 @PRADHyU_RAJPUT\\n@devika154… https://t.co/KyvPilPgOO', \"This man's strength is unreal.\\n\\nChampion cricketer, @rashidkhan_19.\\n\\n#IPL2020 https://t.co/ELNBMIvbnK\", 'First defeat of the season for DC as they were outplayed in all departments by Sunrisers. \\n\\nhttps://t.co/kZ33KcmwDS… https://t.co/QC4TucTReQ', 'RR vs KKR 3 Dream 11 Winning Teams For GL, SL and H2H .. Subscribe our Channel for more Free teams and Tips… https://t.co/vvLdITzUre', 'Why rains is unfollow csk fron Instagram @ImRaina @ChennaiIPL @IPL #WhistlePodu #whyunfollowcsk @instagram @aajtak… https://t.co/n7xtb0CwTK', '@rajasthanroyals best one \\n#rr #hallabol #IPL2020 #Dream11IPL https://t.co/jaEM8eZbfz', 'This thread\\U0001f97a...well done netatarajan👏👏.\\n#IPL2020 #SRH https://t.co/p4HEPO6HS1', 'I really like Daren Ganga...He could honestly make a car insurance renewal sound enthusing, but not in an annoying… https://t.co/LcijYr5LKC', '#IPL2020  : All round #SunrisersHyderabad register first win, Defeat #DelhiCapitals by 15 Runs - TV9 https://t.co/z7bLSHa71I', '@ImRaina Hi Sir, hope u doing good.. but we are not happy.\\nplease come back to our CSK  team.. All the cricketing f… https://t.co/EWdp9uyPW1', 'Except for the leg sided full toss in his 4th over, all other 5 balls were truly amazing. \\n\\nAnother leg sided deliv… https://t.co/8xa9Pq52on', 'Unpredictable year 2020 😂😂\\n\\n#IPL2020              #IPL2020\\ntop four                      bottom four\\n1 IPL trophy… https://t.co/jlkjl03i1M', 'And of those 52 instances, @ChennaiIPL have lost it 9 times and @RCBTweets 8 times... #IPL2020 #SRHvsDC', '@skyscrapersol Ans is :- option D. 21&amp; Above.\\n#IPL2020 #IPL #Twenty20 #SSIPL2020 #ContestAlert #DCVsSRH #SRHvsDC… https://t.co/zUfKNWMs1x', \"🚀 Archer's six-hitting exploits\\n\\n🔥 Bairstow bang in form \\n\\n💫 Sam Curran's impressive scalps\\n\\nCheck out how England'… https://t.co/hbaoUAnct7\", '#IPL2020 DAILY POD: By the fans, for the fans!\\n\\n#SunRisers off the mark. #DelhiCapitals suffer first #IPL13 loss… https://t.co/V11HjRVDho', 'Photoshop Background remove \\U0001f970\\U0001f970\\U0001f970\\U0001f970\\nhttps://t.co/1w9pOSolgk\\n\\n#Exchange #DigitalMarketing #Ethereum… https://t.co/YB2GbPQsSL', 'I m so happy for #Bhuvi &amp; #SRH today... Bhuvi was going through a real struggle since a couple of years... This is… https://t.co/doFjFEOTdo', 'T.Natarajan, what a match for him. \\n\\n6 dots in the power play overs giving away just 12 runs incl. 2 4s.\\n1 bad ball… https://t.co/tmGOC4aQyB', 'Rashid khan 👏👏\\nThe gem in a cricket world 💯💯\\n#IPL2020 #Dream11IPL #RashidKhan #DCvSRH #SRHvsDC #SRH @SunRisers… https://t.co/cP0BjcDEUl', '#IPL2020 \\nTomorrow kkr will win their 2nd match \\nCsk definitely comeback \\nMumbai have no chance to win this season', '@vivekagnihotri Currently, Sharjah Cricket Stadium bcz teams are scoring 500 runs in one #IPL2020 match 😂', 'Needy win by @SunRisers . @rashidkhan_19 shows why he was called game changer. \\n#IPL2020 #SRHvsDC #AbuDhabi', 'For continuing to display his black flips and baby sitting skills rather than his grey matter skills. That brain fa… https://t.co/qTPSBPdiKZ', 'Hyderabadi biryani with afghani tadka !\\nIts too spicy for the Delhi boys @DelhiCapitals\\n\\n@rashidkhan_19 khan sahab… https://t.co/yNfOYBeE7c', \"This is such a heart warming story!\\nAlso reiterates the message inscribed on the @IPL trophy...'Yatra Pratibha Avsa… https://t.co/1cU69V5Wxl\", '#SRHvsDC : hurry again win our member grand league again 🤗.\\nWhat a great day fantastic 💓.\\n#SRH \\nI thank full my mem… https://t.co/WDWSdGWPU3', 'Rashid Khan was playing the BBL when he lost his father in December. But he put on an armour and fought through the… https://t.co/0jPLhrUYnM', 'Happy to see Natarajan trending! #IPL2020', \"Chennai Super Kings at No.8 and Rajasthan Royals at No.1, what an edition of IPL we're witnessing. #IPL2020 https://t.co/3piXNXDrkl\", 'Everyone is praising Rashid and Kane Williamson but did anyone notice the perfect yorkers of young left arm pacer N… https://t.co/YhkisQlguV', 'Williamson 😘\\n\\n#dc #srh #Dream11IPL\\n#Tamilnaduiplfans \\n#ipl2020 #IPLinUAE https://t.co/U0ylq2qQxZ', \"@SunRisers it's time for Hyderabadi Biryani party\\U0001f929😋 Congratulations 🎉 for ur first win in #IPL2020 ensured by the s… https://t.co/KZfmzS7ZTY\", 'I love that unforgettable cricket moment when Yuvraj Singh scored 50 runs off just 12 balls against England in the… https://t.co/oGenSh2RqT', '#IPL2020  : All round #SunrisersHyderabad register first win, Defeat #DelhiCapitals by 15 Runs - TV9\\nhttps://t.co/EcSAzjVTNq', 'RCB at top 4 and CSK at 8th position.\\n2020 is really weird\\n#IPL2020 https://t.co/BVBF4gP0qH', '@im_manishpandey u r wicket is somewhat diff , u tried that shot but ur bat angle changed due to the force of the R… https://t.co/IdlWbXFM77', '#IPL2020 \\nBCCI to Rishabh Pant https://t.co/xNnleh6ErG', 'KW brought grittiness and Bhuvi-Rashid duo did the rest for @SunRisers. \\n\\n#SRHvDC \\n#IPL2020', \"#IPL2020 game 11 review: SRH की ज़ोरदार वापसी \\n\\n(Also, where I took a viewer's request to re-enact the 'Madan Chopr… https://t.co/67rEzFhxRU\", 'Congratulations @SunRisers on their 1st win after suffering 2 losses . They were magnificent throughout the match o… https://t.co/dE3zg771Lx', '@rajasthanroyals Enjoy the last night as being unbeaten in #IPL2020 😅', 'My situation in 19-20th over in #IPL2020 https://t.co/TKQKq6dFNc', 'There has been 51 instances of a team successfully defending a total of 162 or less in an IPL match... @SunRisers h… https://t.co/SlOH9s9YQT', 'Predictions not going well..!! 😐 @cricketaakash #IPL2020', '#IPL 2020 Match 12 KKR vs RR: Preview, Playing XI predictions, weather report - https://t.co/2ixosZg3si #cricket #IPL2020 #KKRvRR #RRvKKR', 'T. Natarajan appreciation post 👏\\U0001f9e1\\n\\n#DCvSRH #OrangeArmy #KeepRising #IPL2020 https://t.co/srnXIR6U6j', 'Natarajan was picked up by the #SRH because of his ability to dart in Yorkers. How well did he bowl these! #DCvSRH #SRHvsDC #IPL2020', 'T20 cricket is non-stop crazy entertainment. Two insanely phenomenal games in 2 days.\\nZero-g fielding, super-over,… https://t.co/p64qKtbYkD', 'This maybe an unpopular opinion but one of the reasons why we won today was because Manish Pandey was taken down qu… https://t.co/RzYKrDVq7q', 'Getting the best feel of the\\n\"INDIAN\" Premier league \\namong all the other editions. How good to hear a story of a n… https://t.co/WKcGuaSrzA', '#IPL2020 is not belongs to Big players and name it is belongs to lots of unsung and underrated players ..', 'Who will win in the match of #RRvsKKR in #IPL2020 ?\\n\\n#HallaBol \\n#KKR \\n#KKRvsRR\\n\\n#GuessCricket', \"\\U0001f7e0 SUNRISERS END DELHI'S PERFECT START ⚫\\n\\nJonny Bairstow hits fifty before a brilliant four overs from Rashid Khan t… https://t.co/6iuPuuFHP6\", 'Such an inspiring story, take a bow Natarajan.. #IPL2020 #SRH @SunRisers https://t.co/qmZrTgCfqZ', '#IPL2020 : Disciplined SRH outsmart DC to register first points - https://t.co/jGUut9gHDO #cricket #SRHvDC #DCvSRH', \"IPL social: Rajasthan Royals' incredible comeback &amp; Kohli's RCB win after super over drama . more read...… https://t.co/t6YfKofp97\", 'Just so we’re clear, I’m rooting for Rajasthan this season 🙌🏻🙌🏻🙌🏻😂😂\\n\\n#IPL2020', 'CSK at 8\\n\\n#IPL2020 https://t.co/8QnwEJfb1F https://t.co/OYY1zBqIdJ', 'We....Won......We.....Won\\nHappiness = ∞\\nThe First Win Always Special\\U0001f970\\nRashid 👑 Brillant Spell, Kane Class, Witnesse… https://t.co/aVUoPPSOHx', 'Looking for an easy &amp; efficient way to trade?\\n\\nTry #upstox Today😊\\n\\nOpening an online demat account with Upstox is e… https://t.co/PMlXjXstui', 'Hyderabad beat Delhi by 15 runs and register 1st win in IPL 2020.\\n.\\nMan of the Match Award goes to Rashid Khan.… https://t.co/z1UyfhaYkh', 'From Afghanistan to #AbuDhabi. Versatile IPL performance so far in 2020. #Champion 🏏🏆 \\n#ULTRA bowling spell 4-0-14-… https://t.co/3ZQQsNCpxU', 'Brilliant spell of bowling from Natarajan. The way he executed the yorkers was absolutely fantastic to see. We saw… https://t.co/z6GBXrJ863', '#meme of the day\\n\\n#IPL2020 \\n#SRHvDC \\n#csk \\n#SRH https://t.co/8ODB0ZaOgZ', \"🔸 Undefeated Rajasthan Royals 🔝 #RR\\n🔸 Sunrisers on the board 📋 #SRH\\n🔸 Looks who's bottom 😱 #CSK\\n#IPL2020 #SRHvsDC… https://t.co/zLKJ8fA3gx\", 'Inspiring 🙂 \\n\\nA big applause for Our Tamilnadu player! Natarajan 💪\\n\\n#SRHvsDC #SRHvDC #IPL2020 #IPL https://t.co/UIwXEm8ByR', 'Opener #JonnyBairstow’s sublime fifty was complemented by a stellar bowling effort from #RashidKhan as… https://t.co/YRxNOAKA4M', 'Joffffffffra CLEAR top RR wicket taker being boosted to 3.4 when 3.75 is available elsewhere is some fucking rort… https://t.co/SMSHtisjue', 'Can happen even if KKR are chasing with that batting lineup !! \\n\\nExcept Gill everyone likes to attack !!! \\n\\n#KKR… https://t.co/CbiJOcygTp', 'Good win by @SunRisers #OrangeArmy  #IPL2020 https://t.co/M46FDnMDd0', 'Check out the changes that took place in Orange Cap Table after the match between #DC and #SRH!!\\n\\n#DCvsSRH… https://t.co/ojC1AjlMeP', '6 yorkers by Natarajan today - the most by a bowler in a match in this #IPL2020 \\n\\nSpecial show from him. \\n\\n#SRHvDC', 'Great performance by SRH,good contribution from @BhuviOfficial and @rashidkhan_19  and firing Yorkers from… https://t.co/f9C92WiopE', 'Opener #JonnyBairstow’s sublime fifty was complemented by a stellar bowling effort from #RashidKhan as… https://t.co/mdoUVVjZbV', 'CSK at the bottom of the table. GG will sleep peacefully tonight 🤣 #IPL2020 https://t.co/mejM2tYbhN', 'My playing 11 for @RCBTweets \\n\\nPadikkal\\nKohli\\nABD ✈️\\nAli✈️\\nGurkeerat\\nMorris✈️\\nUdana✈️\\nSundar\\nDube\\nSaini\\nChahal\\n\\nDro… https://t.co/JfQFf30E0Z', 'Rashid enters top 10, Rabada replaces Shami to be the leading wickets takers.\\n\\n#DCvsSRH #DelhiCapitals… https://t.co/hZTPuCcxAs', 'Alexa play Altaf raja + Arijit remixes today !!\\U0001f97a😓 \\n\\nAisa pehli baar hua hai 12-13 saalo m!🙂\\n\\nTo all the CSK fans ou… https://t.co/yDjz7sA7wn', 'Bottom of the table...\\nVery rare \\n#CSK \\n#8th #position .. \\n#chennaisuperkings \\n@ChennaiIPL \\n#IPL2020… https://t.co/o3dSK5JozD', \"Now we can expect this 'first-ball ritual' from @Natarajan_91 in the remanining matches too; #natarajan #SRHvsDC… https://t.co/bmQdj0Ldz4\", '@DelhiCapitals Yes absolutely no doubt we will come back stronger #YehHaiNayiDilli #Dream11IPL #SRHvsDC #IPL2020 .', '#IPL2020 #DCvSRH \\n\\n@rashidkhan_19: \"Tough one-and-a-half years. First lost my dad, then my mom three-four months ag… https://t.co/NYWe75fzTo', 'Not a CSK supporter , but you guys used Thalaivar\\'s GIF. \\n\\nHope CSK fans will soon see Petta Gif \"Naan Veezhven end… https://t.co/U6pnDUWAZt', \"At 49 reqd off 4 overs, disappointing of #Pant to attempt a low-percentage slog sweep off #SRH's best bowler (… https://t.co/9pzefEAkLb\", \"@ChennaiIPL \\n- They hv played 3 matches &amp; on diff grounds &amp; it seems like their spinners haven't found their length… https://t.co/Wk75Nduaxb\", '#natarajan was magical today with his Yorker balls #orangearmy #SRHvsDC #IPL2020', '2020 has turned our life (and the IPL points table) upside down #IPL2020 #CSK ‼ https://t.co/rpMT0LrwrD', 'Start of IPL - Thought #RR to be the weakest team in paper\\n\\nAfter 11 games(though early stage) suprising to see RR… https://t.co/EGR3K14qow']\n"
          ],
          "name": "stdout"
        }
      ]
    },
    {
      "cell_type": "code",
      "metadata": {
        "id": "03M6gOZzc7rb",
        "colab": {
          "base_uri": "https://localhost:8080/",
          "height": 51
        },
        "outputId": "d651ae3d-60e1-42e1-e70b-2e58d53eef1e"
      },
      "source": [
        "import numpy as np \n",
        "import pandas as pd \n",
        "import re  \n",
        "import nltk # an amazing library to play with natural language\n",
        "nltk.download('stopwords')  \n",
        "from nltk.corpus import stopwords \n"
      ],
      "execution_count": null,
      "outputs": [
        {
          "output_type": "stream",
          "text": [
            "[nltk_data] Downloading package stopwords to /root/nltk_data...\n",
            "[nltk_data]   Unzipping corpora/stopwords.zip.\n"
          ],
          "name": "stdout"
        }
      ]
    },
    {
      "cell_type": "code",
      "metadata": {
        "id": "LIIrJYhVdD9y",
        "colab": {
          "base_uri": "https://localhost:8080/",
          "height": 255
        },
        "outputId": "303304cb-e78c-4468-c53d-f3ab1ea87353"
      },
      "source": [
        "tweets = pd.read_csv(\"https://raw.githubusercontent.com/kolaveridi/kaggle-Twitter-US-Airline-Sentiment-/master/Tweets.csv\")\n",
        "print(tweets)"
      ],
      "execution_count": null,
      "outputs": [
        {
          "output_type": "stream",
          "text": [
            "                 tweet_id  ...               user_timezone\n",
            "0      570306133677760513  ...  Eastern Time (US & Canada)\n",
            "1      570301130888122368  ...  Pacific Time (US & Canada)\n",
            "2      570301083672813571  ...  Central Time (US & Canada)\n",
            "3      570301031407624196  ...  Pacific Time (US & Canada)\n",
            "4      570300817074462722  ...  Pacific Time (US & Canada)\n",
            "...                   ...  ...                         ...\n",
            "14635  569587686496825344  ...                         NaN\n",
            "14636  569587371693355008  ...                         NaN\n",
            "14637  569587242672398336  ...                         NaN\n",
            "14638  569587188687634433  ...  Eastern Time (US & Canada)\n",
            "14639  569587140490866689  ...                         NaN\n",
            "\n",
            "[14640 rows x 15 columns]\n"
          ],
          "name": "stdout"
        }
      ]
    },
    {
      "cell_type": "code",
      "metadata": {
        "id": "yUFttnmRdTol",
        "colab": {
          "base_uri": "https://localhost:8080/",
          "height": 119
        },
        "outputId": "e81503dd-b43c-4d4e-b5e4-cdc694811dae"
      },
      "source": [
        "X = tweets.iloc[:, 10].values  \n",
        "y = tweets.iloc[:, 1].values\n",
        "\n",
        "print(X)"
      ],
      "execution_count": null,
      "outputs": [
        {
          "output_type": "stream",
          "text": [
            "['@VirginAmerica What @dhepburn said.'\n",
            " \"@VirginAmerica plus you've added commercials to the experience... tacky.\"\n",
            " \"@VirginAmerica I didn't today... Must mean I need to take another trip!\"\n",
            " ... '@AmericanAir Please bring American Airlines to #BlackBerry10'\n",
            " \"@AmericanAir you have my money, you change my flight, and don't answer your phones! Any other suggestions so I can make my commitment??\"\n",
            " '@AmericanAir we have 8 ppl so we need 2 know how many seats are on the next flight. Plz put us on standby for 4 people on the next flight?']\n"
          ],
          "name": "stdout"
        }
      ]
    },
    {
      "cell_type": "code",
      "metadata": {
        "id": "wCbe6x3cqOAR"
      },
      "source": [
        "processed_tweets = []\n",
        " \n",
        "for tweet in range(0, len(X)):  \n",
        "    # Remove all the special characters\n",
        "    processed_tweet = re.sub(r'\\W', ' ', str(X[tweet]))\n",
        " \n",
        "    # remove all single characters\n",
        "    processed_tweet = re.sub(r'\\s+[a-zA-Z]\\s+', ' ', processed_tweet)\n",
        " \n",
        "    # Remove single characters from the start\n",
        "    processed_tweet = re.sub(r'\\^[a-zA-Z]\\s+', ' ', processed_tweet) \n",
        " \n",
        "    # Substituting multiple spaces with single space\n",
        "    processed_tweet= re.sub(r'\\s+', ' ', processed_tweet, flags=re.I)\n",
        " \n",
        "    # Removing prefixed 'b'\n",
        "    processed_tweet = re.sub(r'^b\\s+', '', processed_tweet)\n",
        " \n",
        "    # Converting to Lowercase\n",
        "    processed_tweet = processed_tweet.lower()\n",
        " \n",
        "    processed_tweets.append(processed_tweet)"
      ],
      "execution_count": null,
      "outputs": []
    },
    {
      "cell_type": "code",
      "metadata": {
        "id": "fvvzPXC7daw9"
      },
      "source": [
        "from sklearn.feature_extraction.text import TfidfVectorizer  \n",
        "tfidfconverter = TfidfVectorizer(max_features=2000, min_df=5, max_df=0.7, stop_words=stopwords.words('english'))  \n",
        "X = tfidfconverter.fit_transform(processed_tweets).toarray()\n"
      ],
      "execution_count": null,
      "outputs": []
    },
    {
      "cell_type": "code",
      "metadata": {
        "id": "_yReZpg4dftB",
        "colab": {
          "base_uri": "https://localhost:8080/",
          "height": 153
        },
        "outputId": "94543b5d-b663-46e4-e200-7697f82c807b"
      },
      "source": [
        "from sklearn.ensemble import RandomForestClassifier\n",
        "text_classifier = RandomForestClassifier(n_estimators=100, random_state=0)  \n",
        "text_classifier.fit(X, y)"
      ],
      "execution_count": null,
      "outputs": [
        {
          "output_type": "execute_result",
          "data": {
            "text/plain": [
              "RandomForestClassifier(bootstrap=True, ccp_alpha=0.0, class_weight=None,\n",
              "                       criterion='gini', max_depth=None, max_features='auto',\n",
              "                       max_leaf_nodes=None, max_samples=None,\n",
              "                       min_impurity_decrease=0.0, min_impurity_split=None,\n",
              "                       min_samples_leaf=1, min_samples_split=2,\n",
              "                       min_weight_fraction_leaf=0.0, n_estimators=100,\n",
              "                       n_jobs=None, oob_score=False, random_state=0, verbose=0,\n",
              "                       warm_start=False)"
            ]
          },
          "metadata": {
            "tags": []
          },
          "execution_count": 11
        }
      ]
    },
    {
      "cell_type": "code",
      "metadata": {
        "id": "PiH3lhymdsYI",
        "colab": {
          "base_uri": "https://localhost:8080/",
          "height": 1000
        },
        "outputId": "a6c4a8e4-3974-4eca-ff4c-ffb0076d3948"
      },
      "source": [
        "for tweet in all_tweets:\n",
        "    # Remove all the special characters\n",
        "    processed_tweet = re.sub(r'\\W', ' ', tweet)\n",
        " \n",
        "    # remove all single characters\n",
        "    processed_tweet = re.sub(r'\\s+[a-zA-Z]\\s+', ' ', processed_tweet)\n",
        " \n",
        "    # Remove single characters from the start\n",
        "    processed_tweet = re.sub(r'\\^[a-zA-Z]\\s+', ' ', processed_tweet) \n",
        " \n",
        "    # Substituting multiple spaces with single space\n",
        "    processed_tweet= re.sub(r'\\s+', ' ', processed_tweet, flags=re.I)\n",
        " \n",
        "    # Removing prefixed 'b'\n",
        "    processed_tweet = re.sub(r'^b\\s+', '', processed_tweet)\n",
        " \n",
        "    # Converting to Lowercase\n",
        "    processed_tweet = processed_tweet.lower()\n",
        " \n",
        "    sentiment = text_classifier.predict(tfidfconverter.transform([ processed_tweet]).toarray())\n",
        "    print(processed_tweet ,\":\", sentiment)\n"
      ],
      "execution_count": null,
      "outputs": [
        {
          "output_type": "stream",
          "text": [
            "nattu boy finally ha getting recognized srh ipl2020 https co 6op5sfluek : ['neutral']\n",
            "it just the beginning of rising and spreading the wings srhvsdc srh ipl2020 hyderabad orangearmy https co ewe6f7jeh2 : ['neutral']\n",
            "right team combination amp superb captaincy davidwarner31 kanewilliamson was absolutely brilliant with the bat and https co wgkxsixs9b : ['neutral']\n",
            "sunrisers hyderabad is t20 team whose identity really revolves around its bowling arsenal fabulous varieties an https co xcdpuqwpea : ['negative']\n",
            "jonny jonny more drama jbairstow21 amp srh crash delhi party dream11ipl cricketyourway ipl2020 dcvsrh https co gdqa2uyqux : ['neutral']\n",
            " we don really know what happened with the scans over in the uae cricket australia haven been able to get thei https co jib39vzbgp : ['negative']\n",
            " delhicapitals need an experienced campaigner to guide the youngsters and also finish the job of they can someone https co rahfssieyk : ['negative']\n",
            " pragyanojha sunrisers davidwarner31 jbairstow21 for 20 over game think the batting amp bowling line up looks https co o8msu58qmj : ['negative']\n",
            "it high time that delhicapitals get in ajinkyarahane88 as opener replacing gabbar he can rotate strike if https co gerlonkpvt : ['negative']\n",
            " consistent performances by sunrisers with out any noise felt bhogleharsha wanted to say something more about https co oq9p4bqjbm : ['negative']\n",
            " keeprising ipl2020 we all win together or lose together if we are together riselikethesun askheyley : ['negative']\n",
            " justiceformanishavalmik actorvijay actorajithkumar valimai master no means no ipl2020 csk cskvsmi rajinikanth kamalhaasan : ['negative']\n",
            " ipl2020 todays match dcvsrh brilliant bowling by rashidkhan_19 and got man of the match for 4 0 14 3 another https co x6togmiszw : ['negative']\n",
            "reviewing srh first win of the season and previewing kkr third game of the tournament against the double rs https co llcmptm0pm : ['neutral']\n",
            "important 4 ur cardinal players 2 strike rashidkhan bhuvneshwarkumar davidwarner jonnybairstow struck https co fkchzomkag : ['neutral']\n",
            "natarajan was picked up by the srh because of his ability to dart in yorkers how well did he bowl these dcvsrh srhvsdc ipl2020 : ['negative']\n",
            "check out my gig on fiverr be your social media marketing manager and content creator https co ybjuaguxzp https co p5ljttudcm : ['neutral']\n",
            " ipl2020 dcvsrh srhvsdc ipl report rashidkhan_19 jbairstow21 shine as sunrisers beat delhicapitals to regi https co yay9pqdm0r : ['neutral']\n",
            " ipl2020 dcvsrh srhvsdc ipl report rashidkhan_19 jbairstow21 shine as sunrisers beat delhicapitals to regi https co 3vecxjasqq : ['neutral']\n",
            "as per the trend tomorrow kkr is going to win to make every team to lose 1 match atleast rrvskkr ipl2020 ipl iplpredictions : ['negative']\n",
            " abdul samad and natarjan are serious talent great pick of srh rashid khan and williamson are champ dcvsrh srhvsdc ipl2020 : ['positive']\n",
            "sunrisers hyderabad are off the mark this was much needed win them rashidkhan_19 is extremely talented he doe https co qzslh0chps : ['neutral']\n",
            "3 1 4 rashidkhan registered his best bowling figures in ipl complete team effort from srh to grab th https co ucms36jwa2 : ['positive']\n",
            "rashid khan today won his eighth motm award in just 49 ipl appearances among those named motm more than twice on https co 3dbh9lbz3e : ['neutral']\n",
            "the story line of this ipl2020 till now is simple tewatia natarajan everything else is noise around  : ['negative']\n",
            "i really don know why people try to troll cricketaakash on twitter one who keeps thorough knowledge about indi https co eq3kdt3z2j : ['negative']\n",
            " ipl2020 srhvsdc ipl 2020 sunrisers hyderabad beat delhi capitals by 15 runs to register first win of the season https co xc8gbm8yzv : ['neutral']\n",
            " rajasthanroyals jofraarcher needs to make the batsmen dance to his pace why bowl slowers amp cutters when he can https co t9zmxzypb6 : ['neutral']\n",
            "the man who deserves the awards is rashidkhan_19 the young blood the telanted one in the world ipl2020 https co g70pd0jbpr : ['negative']\n",
            " bhogleharsha sir it not kane anna it kane mama sunrisers kanemama ipl2020 sunrisers https co xnsqninmhs : ['neutral']\n",
            "hello m mahadi_wp professional web developer and designer worked in the it industry for many years and wi https co 6ojs6k2mp1 : ['negative']\n",
            "happy birthday haanjichandan plz follow me mivskkr ipl2020 tkss bollywood fyp bollywooddance comedy joke https co abutyeh52s : ['neutral']\n",
            " _cricketsparsh cricketaakash no doubt shrewd buys last ipl auction should ensure play off birth minimum ipl2020 : ['negative']\n",
            "actress kiran rathod hot viral video superstar link https co pn91i1pz5y direndamat elcinsanguyasorum https co pqnytro6re : ['neutral']\n",
            "what bowler match winner the spin wizard has done the trick once again broke the batting line up of https co gankb1yfhz : ['neutral']\n",
            "unpopular opinion rashid khan chucks ipl2020 rashidkhan_19 srhvsdc : ['negative']\n",
            "hello m mahadi_wp professional web developer and designer worked in the it industry for many years and wi https co jguja2e6ml : ['negative']\n",
            "hey are you looking this service am professional graphic designer and will design for you creative and moder https co rqwu19ixas : ['negative']\n",
            "hey are you looking this service do you want to create your own photo into like this smiling face with heart https co vf78bjarrm : ['negative']\n",
            " benjonescricket oh that ad engineering graduates who slog their backsides off for 4 years to land developer job https co jkksrkpto8 : ['neutral']\n",
            "hello m mahadi_wp professional web developer and designer worked in the it industry for many years and wi https co ttz8pgflna : ['negative']\n",
            "hey are you looking this service am professional graphic designer and will design for you creative business https co 8g9bnswcuu : ['negative']\n",
            " man4_cricket just try shut those are passing wrong comments with bat am really desperate to watch your imactful https co czvs9bbgzu : ['neutral']\n",
            " we don really know what happened with the scans over in the uae cricket australia haven been able to get thei https co ocsj8km6hi : ['negative']\n",
            "hey are you looking this service am professional graphic designer and will design for you creative and moder https co utmh5qinct : ['negative']\n",
            " ipl2020 people of india waiting for dc game to criticize rishabhpant baccheko jeene do yr drop kardo team se khus https co xsyk8rtvxh : ['negative']\n",
            "https co dvw4m2xdnp new video batballwithmg ipl2020 cricket india uae srh dc delhicapitals https co rb1hzedkwh : ['neutral']\n",
            "delhi capitals captain shreyas iyer fined inr 12 lakh for slow over rate first offence by dc under ipl code of https co bqky3adli0 : ['negative']\n",
            "rashid khan today won his eighth motm award in just 49 ipl appearances among those named motm more than twice on https co teayp8py6t : ['neutral']\n",
            " natarajan_91 tn is proud of you bro ipl2020 https co qqchmxuurc : ['neutral']\n",
            "i know that we ve played only 3 games but still dont remember us at the bottom of the table ever before is this https co 0euojtbagy : ['negative']\n",
            "hey are you looking this service do you want to create your own photo into like this smiling face with heart https co vaeett9agn : ['negative']\n",
            "cep vs sop match 2 national t20 cup 2020 fantasy cricket tips cricket ipl2020 ipl2020updates iplschedule https co niqka3fj8v : ['neutral']\n",
            "classy what classic batting kanewilliamson at it best it a slow wicket but rashid karamati khan https co 529incmkoh : ['positive']\n",
            " poppingcreasesa huge thank you for your updates again missed it through work unfortunately but once more you ke https co wgnc2h7u2s : ['positive']\n",
            "sunrisers hyderabad is t20 team whose identity really revolves around its bowling arsenal fabulous varieties an https co zsllipwwlc : ['negative']\n",
            " ipl ipl2020 dcvsrh rashid khan triple strike made all the difference for srh as his team registered its https co dpf3tor4rw : ['neutral']\n",
            "sunrisers hyderabad are off the mark this was much needed win them rashidkhan_19 is extremely talented he doe https co 2t68surda8 : ['neutral']\n",
            "points table now all in balance just want csk amp mi to lose next 5 games on trot amp it ll look even more balanced ipl2020 : ['negative']\n",
            " delhicapitals attacked 64 of deliveries from abhishek sharma the only bowler they attacked less often was rashi https co cxd4wehof7 : ['neutral']\n",
            "ipl 2020 an emotional rashid khan dedicates his mom award to his mother amp father after srh first win https co jzwaqnjv1p : ['negative']\n",
            "c 2009 2012 contestalert iplwithnews18 ipl2020 cnnnews18 cricketnext news18dotcom join rubyaga9339 https co ugr8uowm9z : ['neutral']\n",
            " abdul samad and natarjan are serious talent great pick of srh rashid khan and williamson are champ dcvsrh srhvsdc ipl2020 : ['positive']\n",
            "esko try kro sab ipl2020 dream11ipl ipl mumbaiindians rcb watch now app _india best live mobile tv app _ https co vdtpz16slo : ['negative']\n",
            "one week you ll have bairstow and warner at loggerheads going at each other sledging the lot the next they will https co bjzj1xqgrp : ['neutral']\n",
            "this hurts more then breakup ipl2020 csk https co 1rzq868813 : ['neutral']\n",
            "right team combination amp superb captaincy davidwarner31 kanewilliamson was absolutely brilliant with the bat and https co 5rvdsffncv : ['neutral']\n",
            "c 2009 2012 contestalert iplwithnews18 ipl2020 cnnnews18 cricketnext join kulanik8 sandeep13_ https co pyxmdsbsse : ['neutral']\n",
            " rajasthanroyals you have fans ipl2020 yellove mi playbold kkr kxip delhicapitals srh : ['negative']\n",
            " sheenlacpaints delhi capitals followed sheenlac paints at facebook wish to win shinewithsheenlac https co vrzpluioc6 : ['neutral']\n",
            "ready to win big join our confirmed mega contest with winnings worth 10 lakhs for today rajasthan vs kolkata https co fha1jxeex9 : ['neutral']\n",
            " ipl ipl2020 dream11ipl prediction rrvkkr kkr would win by ease kkr rr kkrvsrr trying to predict whenev https co sab3moxgq4 : ['neutral']\n",
            " in all three matches we have given the opposition chances if we are ruthless we will finish them off if we tidy https co jgor3zs1tm : ['neutral']\n",
            "it time to declare williamson captain of srh the departments in which he is better than warner captaincy expe https co i67o1dfmhx : ['neutral']\n",
            "natrajan those yorkers thats the bowler india needed ipl2020 srhvsdc : ['negative']\n",
            " ipl2020 csk at the bottom in points table https co jtlfhpupwc : ['neutral']\n",
            " srh won the match match 11 srh vs dc follow join like vizhuppuraminfo vizhuppuram vizhuppuram_info https co ivmlgyofvs : ['negative']\n",
            "how accurate was natarajan with yorkers dcvsrh ipl2020 : ['negative']\n",
            "bottom is the new top and it is temporary we will bounce back top of the table is where we belongs to https co mybrlbvz62 : ['neutral']\n",
            "man of the match award goes to rashid khan he took 3 important wickets of delhi shreyash iyer dhawan amp pant https co wy76thugum : ['negative']\n",
            " ipl top 4 bottom 4 year 2020 indeed ipl2020 dream11ipl ipl : ['negative']\n",
            "rashid khan dedicates his man of the match title to his late parents srh vs dc ipl match 11 https co chtllofjtq : ['negative']\n",
            " natarajan long way to go brother orangearmy dcvsrh ipl2020 keeprising dream11ipl https co rcpmk8ud5w : ['neutral']\n",
            "one who never tries never fails imvkohli tries again and again and fails which is absolutely normal if you thi https co rjtlmfmxyd : ['negative']\n",
            "once again irresponsible and immature batting from pant he is not matching winning player dcvsrh ipl2020 dream11ipl : ['negative']\n",
            "top stuff by natarajan today ipl2020 ipl srhvsdc https co 6ww8igv6ib : ['neutral']\n",
            "points table should be upside down ipl2020 https co ryflrpvto5 : ['neutral']\n",
            "kane williamson bought much needed luck and stability to the sunrisers team leg spinner join the party https co nhpz63mbkl : ['neutral']\n",
            "even if williamson is hurt he should be in the team his charisma is enough to make the team look perform stron https co 5yau0tkkrh : ['negative']\n",
            "on this day in 2016 we went to theatre as dhoni fan and came back as sushant fan thanks for everything https co pq5qbe2jod : ['positive']\n",
            " roflgandhi_ axar patel is only cricketer who has given money to team owner for being part of team squad srhvdc ipl2020 : ['negative']\n",
            "srh is now my favourite ipl team ipl2020 abdulsamad keep going brovi  : ['negative']\n",
            "who should keep in t20s for india at the t20wc ipl2020 dcvsrh : ['negative']\n",
            "well now with each team atleast one win and 2 points on the point table the upcoming matches are really going to be https co wvjfugwk3t : ['negative']\n",
            "rashid khan was the standout bowler for sunrisers hyderabad as they claimed their first win of the season ipl2020 https co tgvnwslwco : ['neutral']\n",
            "good analysis such small observations will be crucial since the game is all about small margins ipl2020 https co tmjvdat5l2 : ['negative']\n",
            "csk nalayako upar aao table main beizzati ho rahi hai two times back to back champions ipl2020 : ['negative']\n",
            "while we all are busy on ipl2020 found new crush amyjones313 in english side : ['negative']\n",
            " starsportstamil really happy to see namma pasanga sundarwashi5 muruganashwin varunchakravarthy https co ulrdwdpqvq : ['neutral']\n",
            "today srhvsdc ipl2020 orangeshirtday aaawwwweeeesssooommmeee biggbosstelugu4 dabba episode didn e https co 0xz2yl9sti : ['neutral']\n",
            "purani wali srh team wapas aa gayi hai team with unity all the players contributed in the win and not depende https co prhnbtls1e : ['neutral']\n",
            "captain david warner happy with sunrisers hyderabad death bowling against delhi capitals ipl2020 srhvdc https co ichniwqiht : ['neutral']\n",
            "captain david warner happy with sunrisers hyderabad death bowling against delhi capitals ipl2020 srhvdc https co 6fa9mjcgme : ['neutral']\n",
            "so good to see indian youngsters outperform international stars at ipl kudos natarajan and iamabhisharma4 https co ofu5knfwoc : ['positive']\n",
            " sunrisers orangearmy dream11ipl ipl2020 today is great battle bairstow david warner khalil ahmed rashi https co 6lztjbg1yg : ['positive']\n",
            "tadoba tiger king resort taking care of all the covid 19 precautions best rate guaranteed book now tta https co 4igcr3a30n : ['positive']\n",
            "any news on stokes rajasthanroyals benstokes38 ipl2020 : ['negative']\n",
            " cricketnext cnnnews18 ans 2009 2012 iplwithnews18 cricketnext cnnnews18 ipl2020 news18dotcom https co 6n26oulkcr : ['neutral']\n",
            "awesome thanks sunrisers for opening the account this ipl2020 birthdaygift https co nmn2dqnlju https co lbgnuakvgd : ['positive']\n",
            "t natarjan was fantastic as he was consistently hitting the yorkers amp made run scoring difficult for batsman we https co 1jpjyldldx : ['neutral']\n",
            "warner bairstow important partnership williamson class samad hitting in last overs natrajans firing yorker ball https co tq620wkm11 : ['neutral']\n",
            "not boys but rashidkhan_19 played well ved075 joshiprasads chiragd20 pradhyu_rajput devika154 https co kyvpilpgoo : ['neutral']\n",
            "this man strength is unreal champion cricketer rashidkhan_19 ipl2020 https co elnbmivbnk : ['neutral']\n",
            "first defeat of the season for dc as they were outplayed in all departments by sunrisers https co kz33kcmwds https co qc4tuctreq : ['neutral']\n",
            "rr vs kkr 3 dream 11 winning teams for gl sl and h2h subscribe our channel for more free teams and tips https co vvlditzure : ['neutral']\n",
            "why rains is unfollow csk fron instagram imraina chennaiipl ipl whistlepodu whyunfollowcsk instagram aajtak https co n7xtb0cwtk : ['neutral']\n",
            " rajasthanroyals best one rr hallabol ipl2020 dream11ipl https co jaem8ezbfz : ['positive']\n",
            "this thread well done netatarajan ipl2020 srh https co p4hepo6hs1 : ['neutral']\n",
            "i really like daren ganga he could honestly make car insurance renewal sound enthusing but not in an annoying https co lcijyr5lkc : ['negative']\n",
            " ipl2020 all round sunrisershyderabad register first win defeat delhicapitals by 15 runs tv9 https co z7blsha71i : ['neutral']\n",
            " imraina hi sir hope doing good but we are not happy please come back to our csk team all the cricketing https co ewdp9uypw1 : ['neutral']\n",
            "except for the leg sided full toss in his 4th over all other 5 balls were truly amazing another leg sided deliv https co 8xa9pq52on : ['positive']\n",
            "unpredictable year 2020 ipl2020 ipl2020 top four bottom four 1 ipl trophy https co jlkjl03i1m : ['negative']\n",
            "and of those 52 instances chennaiipl have lost it 9 times and rcbtweets 8 times ipl2020 srhvsdc : ['negative']\n",
            " skyscrapersol ans is option 21 amp above ipl2020 ipl twenty20 ssipl2020 contestalert dcvssrh srhvsdc https co zufknwms1x : ['neutral']\n",
            " archer six hitting exploits bairstow bang in form sam curran impressive scalps check out how england https co hbaouanct7 : ['neutral']\n",
            " ipl2020 daily pod by the fans for the fans sunrisers off the mark delhicapitals suffer first ipl13 loss https co v11hjrvdho : ['neutral']\n",
            "photoshop background remove https co 1w9posolgk exchange digitalmarketing ethereum https co yb2gbpqssl : ['neutral']\n",
            "i so happy for bhuvi amp srh today bhuvi was going through real struggle since couple of years this is https co dofjfeotdo : ['negative']\n",
            "t natarajan what match for him 6 dots in the power play overs giving away just 12 runs incl 2 4s 1 bad ball https co tmgoc4aqyb : ['negative']\n",
            "rashid khan the gem in cricket world ipl2020 dream11ipl rashidkhan dcvsrh srhvsdc srh sunrisers https co cp0bjcdeul : ['neutral']\n",
            " ipl2020 tomorrow kkr will win their 2nd match csk definitely comeback mumbai have no chance to win this season : ['neutral']\n",
            " vivekagnihotri currently sharjah cricket stadium bcz teams are scoring 500 runs in one ipl2020 match  : ['negative']\n",
            "needy win by sunrisers rashidkhan_19 shows why he was called game changer ipl2020 srhvsdc abudhabi : ['negative']\n",
            "for continuing to display his black flips and baby sitting skills rather than his grey matter skills that brain fa https co qtpsbpdikz : ['negative']\n",
            "hyderabadi biryani with afghani tadka its too spicy for the delhi boys delhicapitals rashidkhan_19 khan sahab https co ynfoybee7c : ['neutral']\n",
            "this is such heart warming story also reiterates the message inscribed on the ipl trophy yatra pratibha avsa https co 1cu69v5wxl : ['neutral']\n",
            " srhvsdc hurry again win our member grand league again what great day fantastic srh thank full my mem https co wdwsdgwpu3 : ['positive']\n",
            "rashid khan was playing the bbl when he lost his father in december but he put on an armour and fought through the https co 0jplhruynm : ['neutral']\n",
            "happy to see natarajan trending ipl2020 : ['negative']\n",
            "chennai super kings at no 8 and rajasthan royals at no 1 what an edition of ipl we re witnessing ipl2020 https co 3pixnxdrkl : ['neutral']\n",
            "everyone is praising rashid and kane williamson but did anyone notice the perfect yorkers of young left arm pacer https co yhkisqlguv : ['negative']\n",
            "williamson dc srh dream11ipl tamilnaduiplfans ipl2020 iplinuae https co u0ylq2qqxz : ['neutral']\n",
            " sunrisers it time for hyderabadi biryani party congratulations for ur first win in ipl2020 ensured by the https co kzfmzs7zty : ['neutral']\n",
            "i love that unforgettable cricket moment when yuvraj singh scored 50 runs off just 12 balls against england in the https co ogensh2rqt : ['positive']\n",
            " ipl2020 all round sunrisershyderabad register first win defeat delhicapitals by 15 runs tv9 https co ecsazjvtnq : ['neutral']\n",
            "rcb at top 4 and csk at 8th position 2020 is really weird ipl2020 https co bvbf4gp0qh : ['neutral']\n",
            " im_manishpandey r wicket is somewhat diff tried that shot but ur bat angle changed due to the force of the https co idlwbxfm77 : ['negative']\n",
            " ipl2020 bcci to rishabh pant https co xnnleh6erg : ['neutral']\n",
            "kw brought grittiness and bhuvi rashid duo did the rest for sunrisers srhvdc ipl2020 : ['negative']\n",
            " ipl2020 game 11 review srh क ज रद र व पस also where took viewer request to re enact the madan chopr https co 67rezfhxru : ['neutral']\n",
            "congratulations sunrisers on their 1st win after suffering 2 losses they were magnificent throughout the match https co de3zg771lx : ['neutral']\n",
            " rajasthanroyals enjoy the last night as being unbeaten in ipl2020  : ['negative']\n",
            "my situation in 19 20th over in ipl2020 https co tkqkq6dfnc : ['neutral']\n",
            "there has been 51 instances of team successfully defending total of 162 or less in an ipl match sunrisers https co sloh9s9yqt : ['neutral']\n",
            "predictions not going well cricketaakash ipl2020 : ['negative']\n",
            " ipl 2020 match 12 kkr vs rr preview playing xi predictions weather report https co 2ixoszg3si cricket ipl2020 kkrvrr rrvkkr : ['negative']\n",
            "t natarajan appreciation post dcvsrh orangearmy keeprising ipl2020 https co srnxir6u6j : ['neutral']\n",
            "natarajan was picked up by the srh because of his ability to dart in yorkers how well did he bowl these dcvsrh srhvsdc ipl2020 : ['negative']\n",
            "t20 cricket is non stop crazy entertainment two insanely phenomenal games in 2 days zero fielding super over https co p64qktbykd : ['negative']\n",
            "this maybe an unpopular opinion but one of the reasons why we won today was because manish pandey was taken down qu https co rzykrdvq7q : ['neutral']\n",
            "getting the best feel of the indian premier league among all the other editions how good to hear story of n https co wkcguasrza : ['negative']\n",
            " ipl2020 is not belongs to big players and name it is belongs to lots of unsung and underrated players  : ['negative']\n",
            "who will win in the match of rrvskkr in ipl2020 hallabol kkr kkrvsrr guesscricket : ['negative']\n",
            " sunrisers end delhi perfect start jonny bairstow hits fifty before brilliant four overs from rashid khan https co 6iupuufhp6 : ['neutral']\n",
            "such an inspiring story take bow natarajan ipl2020 srh sunrisers https co qmzrtgcfqz : ['neutral']\n",
            " ipl2020 disciplined srh outsmart dc to register first points https co jguut9ghdo cricket srhvdc dcvsrh : ['neutral']\n",
            "ipl social rajasthan royals incredible comeback amp kohli rcb win after super over drama more read https co t6yfkofp97 : ['negative']\n",
            "just so we re clear m rooting for rajasthan this season ipl2020 : ['negative']\n",
            "csk at 8 ipl2020 https co 8qnwejfb1f https co oyy1zbqidj : ['neutral']\n",
            "we won we won happiness the first win always special rashid brillant spell kane class witnesse https co avuoppsohx : ['neutral']\n",
            "looking for an easy amp efficient way to trade try upstox today opening an online demat account with upstox is https co pmlxjxstui : ['neutral']\n",
            "hyderabad beat delhi by 15 runs and register 1st win in ipl 2020 man of the match award goes to rashid khan https co z1uyfhaykh : ['neutral']\n",
            "from afghanistan to abudhabi versatile ipl performance so far in 2020 champion ultra bowling spell 4 0 14 https co 3zqqsncpxu : ['neutral']\n",
            "brilliant spell of bowling from natarajan the way he executed the yorkers was absolutely fantastic to see we saw https co z6gbxrj863 : ['neutral']\n",
            " meme of the day ipl2020 srhvdc csk srh https co 8odb0zaogz : ['neutral']\n",
            " undefeated rajasthan royals rr sunrisers on the board srh looks who bottom csk ipl2020 srhvsdc https co zlkj8fa3gx : ['neutral']\n",
            "inspiring big applause for our tamilnadu player natarajan srhvsdc srhvdc ipl2020 ipl https co uiwxem8byr : ['neutral']\n",
            "opener jonnybairstow sublime fifty was complemented by stellar bowling effort from rashidkhan as https co yrxnoaka4m : ['neutral']\n",
            "joffffffffra clear top rr wicket taker being boosted to 3 4 when 3 75 is available elsewhere is some fucking rort https co smshtisjue : ['negative']\n",
            "can happen even if kkr are chasing with that batting lineup except gill everyone likes to attack kkr https co cbijocygtp : ['neutral']\n",
            "good win by sunrisers orangearmy ipl2020 https co m46fdnmdd0 : ['neutral']\n",
            "check out the changes that took place in orange cap table after the match between dc and srh dcvssrh https co ojc1ajlmep : ['negative']\n",
            "6 yorkers by natarajan today the most by bowler in match in this ipl2020 special show from him srhvdc : ['negative']\n",
            "great performance by srh good contribution from bhuviofficial and rashidkhan_19 and firing yorkers from https co f9c92wiope : ['positive']\n",
            "opener jonnybairstow sublime fifty was complemented by stellar bowling effort from rashidkhan as https co mdouvvjzbv : ['neutral']\n",
            "csk at the bottom of the table gg will sleep peacefully tonight ipl2020 https co mejm2tybhn : ['neutral']\n",
            "my playing 11 for rcbtweets padikkal kohli abd ali gurkeerat morris udana sundar dube saini chahal dro https co jfqff30e0z : ['neutral']\n",
            "rashid enters top 10 rabada replaces shami to be the leading wickets takers dcvssrh delhicapitals https co hztpuccxas : ['neutral']\n",
            "alexa play altaf raja arijit remixes today aisa pehli baar hua hai 12 13 saalo to all the csk fans ou https co ydjz7sa7wn : ['neutral']\n",
            "bottom of the table very rare csk 8th position chennaisuperkings chennaiipl ipl2020 https co o3dsk5jozd : ['neutral']\n",
            "now we can expect this first ball ritual from natarajan_91 in the remanining matches too natarajan srhvsdc https co bmqdj0ldz4 : ['neutral']\n",
            " delhicapitals yes absolutely no doubt we will come back stronger yehhainayidilli dream11ipl srhvsdc ipl2020  : ['negative']\n",
            " ipl2020 dcvsrh rashidkhan_19 tough one and half years first lost my dad then my mom three four months ag https co nywe75fzto : ['negative']\n",
            "not csk supporter but you guys used thalaivar gif hope csk fans will soon see petta gif naan veezhven end https co u6pnduwazt : ['neutral']\n",
            "at 49 reqd off 4 overs disappointing of pant to attempt low percentage slog sweep off srh best bowler https co 9pzefeaklb : ['positive']\n",
            " chennaiipl they hv played 3 matches amp on diff grounds amp it seems like their spinners haven found their length https co wk75nduaxb : ['neutral']\n",
            " natarajan was magical today with his yorker balls orangearmy srhvsdc ipl2020 : ['negative']\n",
            "2020 has turned our life and the ipl points table upside down ipl2020 csk https co rpmt0lrwrd : ['neutral']\n",
            "start of ipl thought rr to be the weakest team in paper after 11 games though early stage suprising to see rr https co egr3k14qow : ['negative']\n"
          ],
          "name": "stdout"
        }
      ]
    }
  ]
}